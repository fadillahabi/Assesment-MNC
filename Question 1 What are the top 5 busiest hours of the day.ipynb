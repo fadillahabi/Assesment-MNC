{
 "cells": [
  {
   "cell_type": "code",
   "execution_count": 1,
   "id": "a900a2b7",
   "metadata": {},
   "outputs": [],
   "source": [
    "import pandas as pd"
   ]
  },
  {
   "cell_type": "code",
   "execution_count": 2,
   "id": "69d8ffda",
   "metadata": {},
   "outputs": [
    {
     "name": "stderr",
     "output_type": "stream",
     "text": [
      "C:\\Users\\HP\\anaconda3\\lib\\site-packages\\IPython\\core\\interactiveshell.py:3165: DtypeWarning: Columns (4) have mixed types.Specify dtype option on import or set low_memory=False.\n",
      "  has_raised = await self.run_ast_nodes(code_ast.body, cell_name,\n"
     ]
    }
   ],
   "source": [
    "data = pd.read_csv('trip_data_4.csv')"
   ]
  },
  {
   "cell_type": "code",
   "execution_count": 3,
   "id": "a74541b7",
   "metadata": {},
   "outputs": [
    {
     "data": {
      "text/html": [
       "<div>\n",
       "<style scoped>\n",
       "    .dataframe tbody tr th:only-of-type {\n",
       "        vertical-align: middle;\n",
       "    }\n",
       "\n",
       "    .dataframe tbody tr th {\n",
       "        vertical-align: top;\n",
       "    }\n",
       "\n",
       "    .dataframe thead th {\n",
       "        text-align: right;\n",
       "    }\n",
       "</style>\n",
       "<table border=\"1\" class=\"dataframe\">\n",
       "  <thead>\n",
       "    <tr style=\"text-align: right;\">\n",
       "      <th></th>\n",
       "      <th>medallion</th>\n",
       "      <th>hack_license</th>\n",
       "      <th>vendor_id</th>\n",
       "      <th>rate_code</th>\n",
       "      <th>store_and_fwd_flag</th>\n",
       "      <th>pickup_datetime</th>\n",
       "      <th>dropoff_datetime</th>\n",
       "      <th>passenger_count</th>\n",
       "      <th>trip_time_in_secs</th>\n",
       "      <th>trip_distance</th>\n",
       "      <th>pickup_longitude</th>\n",
       "      <th>pickup_latitude</th>\n",
       "      <th>dropoff_longitude</th>\n",
       "      <th>dropoff_latitude</th>\n",
       "    </tr>\n",
       "  </thead>\n",
       "  <tbody>\n",
       "    <tr>\n",
       "      <th>0</th>\n",
       "      <td>91F6EB84975BBC867E32CB113C7C2CD5</td>\n",
       "      <td>AD8751110E6292079EB10EB9481FE1A6</td>\n",
       "      <td>CMT</td>\n",
       "      <td>1</td>\n",
       "      <td>N</td>\n",
       "      <td>2013-04-04 18:47:45</td>\n",
       "      <td>2013-04-04 19:00:25</td>\n",
       "      <td>1</td>\n",
       "      <td>759</td>\n",
       "      <td>2.5</td>\n",
       "      <td>-73.957855</td>\n",
       "      <td>40.765320</td>\n",
       "      <td>-73.976273</td>\n",
       "      <td>40.785648</td>\n",
       "    </tr>\n",
       "    <tr>\n",
       "      <th>1</th>\n",
       "      <td>EC34CD1B3797DFAFF3FE099BA87B6656</td>\n",
       "      <td>8FE6A4AEDF89B6B4E19D2377FD3FB7D7</td>\n",
       "      <td>CMT</td>\n",
       "      <td>1</td>\n",
       "      <td>N</td>\n",
       "      <td>2013-04-05 07:08:34</td>\n",
       "      <td>2013-04-05 07:17:34</td>\n",
       "      <td>1</td>\n",
       "      <td>540</td>\n",
       "      <td>1.6</td>\n",
       "      <td>0.000000</td>\n",
       "      <td>0.000000</td>\n",
       "      <td>0.000000</td>\n",
       "      <td>0.000000</td>\n",
       "    </tr>\n",
       "    <tr>\n",
       "      <th>2</th>\n",
       "      <td>C1B9DA774DC2BBC6DE27CE994E7F44A0</td>\n",
       "      <td>E1B595FD55E4C82C1E213EB17438107A</td>\n",
       "      <td>CMT</td>\n",
       "      <td>1</td>\n",
       "      <td>N</td>\n",
       "      <td>2013-04-04 17:59:50</td>\n",
       "      <td>2013-04-04 18:21:48</td>\n",
       "      <td>1</td>\n",
       "      <td>1318</td>\n",
       "      <td>3.6</td>\n",
       "      <td>-73.982880</td>\n",
       "      <td>40.754990</td>\n",
       "      <td>-74.009186</td>\n",
       "      <td>40.715374</td>\n",
       "    </tr>\n",
       "    <tr>\n",
       "      <th>3</th>\n",
       "      <td>9BA84250355AB3FC031C9252D395BF8A</td>\n",
       "      <td>16BB0D96A0DCC853AEC7F55C8D6C71E0</td>\n",
       "      <td>CMT</td>\n",
       "      <td>1</td>\n",
       "      <td>N</td>\n",
       "      <td>2013-04-04 18:12:01</td>\n",
       "      <td>2013-04-04 18:25:24</td>\n",
       "      <td>1</td>\n",
       "      <td>799</td>\n",
       "      <td>1.9</td>\n",
       "      <td>-73.978119</td>\n",
       "      <td>40.763451</td>\n",
       "      <td>-73.955666</td>\n",
       "      <td>40.776642</td>\n",
       "    </tr>\n",
       "    <tr>\n",
       "      <th>4</th>\n",
       "      <td>205A696DF62AD03C88DA8C5EC5248639</td>\n",
       "      <td>579C41EA5EC846F8B641A42F9EE3E855</td>\n",
       "      <td>CMT</td>\n",
       "      <td>1</td>\n",
       "      <td>N</td>\n",
       "      <td>2013-04-04 20:12:57</td>\n",
       "      <td>2013-04-04 20:29:55</td>\n",
       "      <td>1</td>\n",
       "      <td>1017</td>\n",
       "      <td>3.6</td>\n",
       "      <td>-74.006371</td>\n",
       "      <td>40.744755</td>\n",
       "      <td>-73.961662</td>\n",
       "      <td>40.761082</td>\n",
       "    </tr>\n",
       "  </tbody>\n",
       "</table>\n",
       "</div>"
      ],
      "text/plain": [
       "                          medallion                      hack_license  \\\n",
       "0  91F6EB84975BBC867E32CB113C7C2CD5  AD8751110E6292079EB10EB9481FE1A6   \n",
       "1  EC34CD1B3797DFAFF3FE099BA87B6656  8FE6A4AEDF89B6B4E19D2377FD3FB7D7   \n",
       "2  C1B9DA774DC2BBC6DE27CE994E7F44A0  E1B595FD55E4C82C1E213EB17438107A   \n",
       "3  9BA84250355AB3FC031C9252D395BF8A  16BB0D96A0DCC853AEC7F55C8D6C71E0   \n",
       "4  205A696DF62AD03C88DA8C5EC5248639  579C41EA5EC846F8B641A42F9EE3E855   \n",
       "\n",
       "   vendor_id   rate_code  store_and_fwd_flag      pickup_datetime  \\\n",
       "0        CMT           1                   N  2013-04-04 18:47:45   \n",
       "1        CMT           1                   N  2013-04-05 07:08:34   \n",
       "2        CMT           1                   N  2013-04-04 17:59:50   \n",
       "3        CMT           1                   N  2013-04-04 18:12:01   \n",
       "4        CMT           1                   N  2013-04-04 20:12:57   \n",
       "\n",
       "      dropoff_datetime   passenger_count   trip_time_in_secs   trip_distance  \\\n",
       "0  2013-04-04 19:00:25                 1                 759             2.5   \n",
       "1  2013-04-05 07:17:34                 1                 540             1.6   \n",
       "2  2013-04-04 18:21:48                 1                1318             3.6   \n",
       "3  2013-04-04 18:25:24                 1                 799             1.9   \n",
       "4  2013-04-04 20:29:55                 1                1017             3.6   \n",
       "\n",
       "    pickup_longitude   pickup_latitude   dropoff_longitude   dropoff_latitude  \n",
       "0         -73.957855         40.765320          -73.976273          40.785648  \n",
       "1           0.000000          0.000000            0.000000           0.000000  \n",
       "2         -73.982880         40.754990          -74.009186          40.715374  \n",
       "3         -73.978119         40.763451          -73.955666          40.776642  \n",
       "4         -74.006371         40.744755          -73.961662          40.761082  "
      ]
     },
     "execution_count": 3,
     "metadata": {},
     "output_type": "execute_result"
    }
   ],
   "source": [
    "data.head()"
   ]
  },
  {
   "cell_type": "code",
   "execution_count": 4,
   "id": "05a6a51d",
   "metadata": {},
   "outputs": [
    {
     "data": {
      "text/plain": [
       "0    2013-04-04 18:47:45\n",
       "1    2013-04-05 07:08:34\n",
       "2    2013-04-04 17:59:50\n",
       "3    2013-04-04 18:12:01\n",
       "4    2013-04-04 20:12:57\n",
       "Name:  pickup_datetime, dtype: object"
      ]
     },
     "execution_count": 4,
     "metadata": {},
     "output_type": "execute_result"
    }
   ],
   "source": [
    "data[' pickup_datetime'].head()"
   ]
  },
  {
   "cell_type": "code",
   "execution_count": 12,
   "id": "f3e343c5",
   "metadata": {},
   "outputs": [],
   "source": [
    "urutan_data = data[' pickup_datetime'].sort_values()"
   ]
  },
  {
   "cell_type": "code",
   "execution_count": 21,
   "id": "57511d94",
   "metadata": {},
   "outputs": [
    {
     "data": {
      "text/plain": [
       " pickup_datetime      pickup_datetime   \n",
       "2013-04-19 22:41:00  2013-04-19 22:41:00    439\n",
       "2013-04-20 23:16:00  2013-04-20 23:16:00    422\n",
       "2013-04-20 22:33:00  2013-04-20 22:33:00    419\n",
       "2013-04-19 22:44:00  2013-04-19 22:44:00    419\n",
       "2013-04-26 19:30:00  2013-04-26 19:30:00    419\n",
       "2013-04-26 19:26:00  2013-04-26 19:26:00    416\n",
       "2013-04-19 22:43:00  2013-04-19 22:43:00    413\n",
       "2013-04-19 22:40:00  2013-04-19 22:40:00    412\n",
       "2013-04-19 22:45:00  2013-04-19 22:45:00    410\n",
       "2013-04-20 23:27:00  2013-04-20 23:27:00    410\n",
       "2013-04-26 19:46:00  2013-04-26 19:46:00    409\n",
       "2013-04-21 00:10:00  2013-04-21 00:10:00    409\n",
       "2013-04-26 19:22:00  2013-04-26 19:22:00    408\n",
       "2013-04-20 19:26:00  2013-04-20 19:26:00    407\n",
       "2013-04-20 22:57:00  2013-04-20 22:57:00    406\n",
       "2013-04-19 22:42:00  2013-04-19 22:42:00    401\n",
       "2013-04-19 19:21:00  2013-04-19 19:21:00    401\n",
       "2013-04-26 18:48:00  2013-04-26 18:48:00    400\n",
       "2013-04-26 19:34:00  2013-04-26 19:34:00    399\n",
       "2013-04-26 22:55:00  2013-04-26 22:55:00    398\n",
       "2013-04-20 23:04:00  2013-04-20 23:04:00    398\n",
       "2013-04-20 19:44:00  2013-04-20 19:44:00    398\n",
       "2013-04-25 19:03:00  2013-04-25 19:03:00    397\n",
       "2013-04-20 23:55:00  2013-04-20 23:55:00    397\n",
       "2013-04-20 22:15:00  2013-04-20 22:15:00    397\n",
       "2013-04-20 19:13:00  2013-04-20 19:13:00    396\n",
       "2013-04-20 18:51:00  2013-04-20 18:51:00    396\n",
       "2013-04-26 20:38:00  2013-04-26 20:38:00    395\n",
       "2013-04-25 20:18:00  2013-04-25 20:18:00    394\n",
       "2013-04-20 20:43:00  2013-04-20 20:43:00    394\n",
       "2013-04-26 18:58:00  2013-04-26 18:58:00    393\n",
       "2013-04-20 22:29:00  2013-04-20 22:29:00    393\n",
       "2013-04-20 23:32:00  2013-04-20 23:32:00    393\n",
       "2013-04-20 20:51:00  2013-04-20 20:51:00    392\n",
       "2013-04-24 19:17:00  2013-04-24 19:17:00    392\n",
       "2013-04-20 19:06:00  2013-04-20 19:06:00    392\n",
       "2013-04-27 22:43:00  2013-04-27 22:43:00    391\n",
       "2013-04-26 22:38:00  2013-04-26 22:38:00    391\n",
       "2013-04-21 00:06:00  2013-04-21 00:06:00    391\n",
       "2013-04-20 23:28:00  2013-04-20 23:28:00    391\n",
       "2013-04-25 20:02:00  2013-04-25 20:02:00    390\n",
       "2013-04-20 23:41:00  2013-04-20 23:41:00    390\n",
       "2013-04-19 23:41:00  2013-04-19 23:41:00    390\n",
       "2013-04-26 19:35:00  2013-04-26 19:35:00    389\n",
       "2013-04-23 19:03:00  2013-04-23 19:03:00    389\n",
       "2013-04-25 20:35:00  2013-04-25 20:35:00    389\n",
       "2013-04-26 18:46:00  2013-04-26 18:46:00    389\n",
       "2013-04-19 19:07:00  2013-04-19 19:07:00    389\n",
       "2013-04-27 19:23:00  2013-04-27 19:23:00    389\n",
       "2013-04-20 22:52:00  2013-04-20 22:52:00    389\n",
       "Name:  pickup_datetime, dtype: int64"
      ]
     },
     "execution_count": 21,
     "metadata": {},
     "output_type": "execute_result"
    }
   ],
   "source": [
    "data.groupby([' pickup_datetime'])[' pickup_datetime'].value_counts().sort_values(ascending=False).head(5)"
   ]
  },
  {
   "cell_type": "code",
   "execution_count": 23,
   "id": "bb0a5cd9",
   "metadata": {},
   "outputs": [],
   "source": [
    "# 5 jam tersibuk teratas dalam sehari adalah : \n",
    "# 2013-04-19 22:41:00  2013-04-19 22:41:00    439\n",
    "# 2013-04-20 23:16:00  2013-04-20 23:16:00    422\n",
    "# 2013-04-20 22:33:00  2013-04-20 22:33:00    419\n",
    "# 2013-04-19 22:44:00  2013-04-19 22:44:00    419\n",
    "# 2013-04-26 19:30:00  2013-04-26 19:30:00    419"
   ]
  },
  {
   "cell_type": "markdown",
   "id": "c1dec469",
   "metadata": {},
   "source": []
  }
 ],
 "metadata": {
  "kernelspec": {
   "display_name": "Python 3",
   "language": "python",
   "name": "python3"
  },
  "language_info": {
   "codemirror_mode": {
    "name": "ipython",
    "version": 3
   },
   "file_extension": ".py",
   "mimetype": "text/x-python",
   "name": "python",
   "nbconvert_exporter": "python",
   "pygments_lexer": "ipython3",
   "version": "3.8.8"
  }
 },
 "nbformat": 4,
 "nbformat_minor": 5
}
